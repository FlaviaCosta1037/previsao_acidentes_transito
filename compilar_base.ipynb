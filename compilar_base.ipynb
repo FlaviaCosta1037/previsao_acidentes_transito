{
 "cells": [
  {
   "cell_type": "code",
   "execution_count": 1,
   "metadata": {},
   "outputs": [
    {
     "name": "stdout",
     "output_type": "stream",
     "text": [
      "Lendo: acidentes-2019.csv\n",
      "Lendo: acidentes_2020-novo.csv\n",
      "Lendo: acidentes-transito-2015.csv\n",
      "Lendo: acidentes_2016.csv\n",
      "Lendo: acidentes_2017.csv\n",
      "Lendo: acidentes_2018.csv\n",
      "Lendo: acidentes2024.csv\n",
      "Lendo: acidentes2021.csv\n",
      "Lendo: acidentes2023.csv\n",
      "Lendo: acidentes2022.csv\n",
      "✔ Arquivo final salvo como 'base.csv'\n"
     ]
    }
   ],
   "source": [
    "import pandas as pd\n",
    "import os\n",
    "\n",
    "# Caminho para a pasta com os arquivos CSV\n",
    "pasta_csv = '/Users/flavia.costa/Documents/projetos/previsao_acidentes_transito/csvs'\n",
    "\n",
    "# Lista para armazenar os DataFrames\n",
    "lista_dfs = []\n",
    "\n",
    "# Percorre todos os arquivos da pasta\n",
    "for arquivo in os.listdir(pasta_csv):\n",
    "    if arquivo.endswith('.csv'):\n",
    "        caminho_arquivo = os.path.join(pasta_csv, arquivo)\n",
    "        print(f\"Lendo: {arquivo}\")\n",
    "        df = pd.read_csv(caminho_arquivo,sep=None, engine='python', encoding='latin1')\n",
    "        lista_dfs.append(df)\n",
    "\n",
    "# Concatena todos os DataFrames\n",
    "df_compilado = pd.concat(lista_dfs, ignore_index=True)\n",
    "\n",
    "# (Opcional) Remove linhas duplicadas\n",
    "df_compilado = df_compilado.drop_duplicates()\n",
    "\n",
    "# Salva o resultado compilado\n",
    "df_compilado.to_csv('/Users/flavia.costa/Documents/projetos/previsao_acidentes_transito/dataset/base.csv', index=False)\n",
    "print(\"✔ Arquivo final salvo como 'base.csv'\")"
   ]
  }
 ],
 "metadata": {
  "kernelspec": {
   "display_name": "Python 3",
   "language": "python",
   "name": "python3"
  },
  "language_info": {
   "codemirror_mode": {
    "name": "ipython",
    "version": 3
   },
   "file_extension": ".py",
   "mimetype": "text/x-python",
   "name": "python",
   "nbconvert_exporter": "python",
   "pygments_lexer": "ipython3",
   "version": "3.9.6"
  }
 },
 "nbformat": 4,
 "nbformat_minor": 2
}
